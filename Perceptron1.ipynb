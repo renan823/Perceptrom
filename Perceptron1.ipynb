{
  "nbformat": 4,
  "nbformat_minor": 0,
  "metadata": {
    "colab": {
      "provenance": [],
      "authorship_tag": "ABX9TyNqc7taAkrD8p+Pvpe6AvUY",
      "include_colab_link": true
    },
    "kernelspec": {
      "name": "python3",
      "display_name": "Python 3"
    },
    "language_info": {
      "name": "python"
    }
  },
  "cells": [
    {
      "cell_type": "markdown",
      "metadata": {
        "id": "view-in-github",
        "colab_type": "text"
      },
      "source": [
        "<a href=\"https://colab.research.google.com/github/renan823/Perceptrom/blob/main/Perceptron1.ipynb\" target=\"_parent\"><img src=\"https://colab.research.google.com/assets/colab-badge.svg\" alt=\"Open In Colab\"/></a>"
      ]
    },
    {
      "cell_type": "code",
      "execution_count": 2,
      "metadata": {
        "id": "Tbf_LwJ62Mc0"
      },
      "outputs": [],
      "source": [
        "import matplotlib.pyplot as plt\n",
        "from random import seed\n",
        "from random import gauss"
      ]
    },
    {
      "cell_type": "code",
      "source": [
        "seed(1)\n",
        "flag = True\n",
        "data = []"
      ],
      "metadata": {
        "id": "fRRGVnWX2-tm"
      },
      "execution_count": 3,
      "outputs": []
    },
    {
      "cell_type": "markdown",
      "source": [
        "traindata = [(0.3, 0.7, 1), (-0.6, 0.3, 0), (-0.1, -0.8, 0), (0.1, -0.45, 1)]\n",
        "w1 = 0.8\n",
        "w2 = -0.5\n",
        "n = 0.5"
      ],
      "metadata": {
        "id": "zgdHGUxt3QLd"
      }
    },
    {
      "cell_type": "code",
      "source": [
        "while(flag):\n",
        "    if(len(data) == 50):\n",
        "        flag = False\n",
        "    else:\n",
        "        data.append((gauss(0, 1), gauss(0, 1)))"
      ],
      "metadata": {
        "id": "ZOeHsPkd3XCE"
      },
      "execution_count": 4,
      "outputs": []
    },
    {
      "cell_type": "code",
      "source": [
        "class Perceptrom:\n",
        "    def __init__(self, w1, w2, n):\n",
        "        self.w1 = w1\n",
        "        self.w2 = w2\n",
        "        self.n = n\n",
        "\n",
        "    def calc(self, x1, x2):\n",
        "        o = (x1 * self.w1) + (x2 * self.w2)\n",
        "\n",
        "        if(o >= 0):\n",
        "            return 1\n",
        "\n",
        "        return 0\n",
        "\n",
        "    def erro(self, t, y):\n",
        "        return t - y\n",
        "\n",
        "    def atualizar(self, peso, e, x):\n",
        "        return peso + self.n * e * x"
      ],
      "metadata": {
        "id": "-GDjD9F23ZJd"
      },
      "execution_count": 5,
      "outputs": []
    },
    {
      "cell_type": "code",
      "source": [
        "p = Perceptrom(1, 0.25, 0.5)\n",
        "\n",
        "for d in data:\n",
        "    o = p.calc(d[0], d[1])\n",
        "    color = \"red\"\n",
        "    if(o == 1):\n",
        "        color = \"blue\"\n",
        "    plt.scatter(d[0], d[1], c=color)\n",
        "\n",
        "plt.show()"
      ],
      "metadata": {
        "colab": {
          "base_uri": "https://localhost:8080/",
          "height": 265
        },
        "id": "2_De5V-T3b9m",
        "outputId": "7686954f-3e69-484d-dce1-b73bdf5dcb59"
      },
      "execution_count": 6,
      "outputs": [
        {
          "output_type": "display_data",
          "data": {
            "text/plain": [
              "<Figure size 432x288 with 1 Axes>"
            ],
            "image/png": "[encoded data removed]"
          },
          "metadata": {
            "needs_background": "light"
          }
        }
      ]
    },
    {
      "cell_type": "code",
      "source": [
        "'''\n",
        "e = p.erro(d[2], o)\n",
        "if(d[2] != o):\n",
        "  p.w1 = (p.atualizar(p.w1, e, d[0]))\n",
        "  p.w2 = (p.atualizar(p.w2, e, d[1]))\n",
        "'''"
      ],
      "metadata": {
        "colab": {
          "base_uri": "https://localhost:8080/",
          "height": 35
        },
        "id": "J1I5MWk33htE",
        "outputId": "4cc67632-5cc3-4998-edde-a4f2349d93b5"
      },
      "execution_count": 7,
      "outputs": [
        {
          "output_type": "execute_result",
          "data": {
            "text/plain": [
              "'\\ne = p.erro(d[2], o)\\nif(d[2] != o):\\n  p.w1 = (p.atualizar(p.w1, e, d[0]))\\n  p.w2 = (p.atualizar(p.w2, e, d[1]))\\n'"
            ],
            "application/vnd.google.colaboratory.intrinsic+json": {
              "type": "string"
            }
          },
          "metadata": {},
          "execution_count": 7
        }
      ]
    }
  ]
}